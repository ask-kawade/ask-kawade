{
  "nbformat": 4,
  "nbformat_minor": 0,
  "metadata": {
    "colab": {
      "provenance": [],
      "authorship_tag": "ABX9TyPzyen50Lh0XME7RJJZvnfX",
      "include_colab_link": true
    },
    "kernelspec": {
      "name": "python3",
      "display_name": "Python 3"
    },
    "language_info": {
      "name": "python"
    }
  },
  "cells": [
    {
      "cell_type": "markdown",
      "metadata": {
        "id": "view-in-github",
        "colab_type": "text"
      },
      "source": [
        "<a href=\"https://colab.research.google.com/github/ask-kawade/ask-kawade/blob/main/Quickbooks.ipynb\" target=\"_parent\"><img src=\"https://colab.research.google.com/assets/colab-badge.svg\" alt=\"Open In Colab\"/></a>"
      ]
    },
    {
      "cell_type": "code",
      "source": [
        "import requests\n",
        "from urllib.parse import urlencode"
      ],
      "metadata": {
        "id": "qc5MoL3tQbRz"
      },
      "execution_count": 22,
      "outputs": []
    },
    {
      "cell_type": "code",
      "source": [
        "\n",
        "# QuickBooks API credentials\n",
        "client_id = 'ABqgksdA7igithWqot2OGgoQPV51cJ7s3DEXk8KhF9niP7B2DN'\n",
        "client_secret = 'Ha8Dv7ADXzkZmG12T9mjy7MzFKPNGBclvV8vpEGU'\n",
        "redirect_uri = 'https://developer.intuit.com/v2/OAuth2Playground/RedirectUrl'\n",
        "company_id = '4620816365163649250'\n",
        "\n",
        "# Define the QuickBooks API URLs\n",
        "base_url = 'https://sandbox-quickbooks.api.intuit.com'\n",
        "authorize_url = 'https://appcenter.intuit.com/connect/oauth2'\n",
        "token_url = 'https://oauth.platform.intuit.com/oauth2/v1/tokens/bearer'\n",
        "\n",
        "# Step 1: Redirect User for Authorization\n",
        "authorization_url = f'{authorize_url}?client_id={client_id}&redirect_uri={redirect_uri}&response_type=code&scope=com.intuit.quickbooks.accounting'\n",
        "print(\"Go to the following URL to authorize your app:\")\n",
        "print(authorization_url)\n",
        "authorization_code = \"AB11698748375TxNhHWJewyE9Wnk1ZdxfOAOZdsodnIwNeyqAh\"\n",
        "\n",
        "# Step 2: Exchange Authorization Code for Access Token\n",
        "data = {\n",
        "    'code': authorization_code,\n",
        "    'redirect_uri': redirect_uri,\n",
        "    'client_id': client_id,\n",
        "    'client_secret': client_secret,\n",
        "    'grant_type': 'authorization_code'\n",
        "}\n",
        "\n",
        "response = requests.post(token_url, data=data)\n",
        "token_data = response.json()\n",
        "access_token = 'eyJlbmMiOiJBMTI4Q0JDLUhTMjU2IiwiYWxnIjoiZGlyIn0..Av3ReetEyBS0AxqJOClo1w.u-cPUhxHWXi-33pB2vq29MsYW2cEj7siIk5hX42ehEzrWQUuncxKqAKY71vUP69jl08gy-wNi1N4iZh_h6Bdv0kVVF3RNRoLg4ITbMSmq9IUuWSSP23ine67W13OKMwsmrqDj6VAhyRGhElUPj5Ppu4R02Miq5D7GqwFJC9Gqp9xazkMElAPpb5s1s8xCrtPUwngE0VaYCQe51_nVdjNr1I0CaYbc_32vN43Jtn3F_nkNQjQeYiQn2yq3ciG_djqv6-HdvpOLiRHJEUfLa83MQrY_QE8U1_bPUp8jacirPzYRLWObj26bkVIr1VwC5hmZUp4viH5W93jypBQw-Ns64-t1-VkILV2CsWw37tDdje7Eb_9PfGzPeF8C7PisDG24MKnOK40HHe1sEEQbx2aAyHa1ui-pB5y8-HLHepKVJOr6ezp9G1PktaroBViFnyfvXcNblGrft5cCVmbsn7qAEp6POICNIvScfJmm7KP7i31lVat08TKWb3OgWAkscKQEyEopo76mOgnaHkcB9AcBQPTuf-DzFcYahku74gp4ZG7aLE2iZEoPMYx6B010YZsd15F81ZSNSymbeKIvL-SHG69dVPQTl2SUm9tSZyAFcNWAr_A0xIlCfqc1BBbnqqzdk6u7mAAO2s9D4dMnDH6BKrtQ7taEPCKbeDX_Uzpy2sV1_Xlh8zkrudVhpB-fM8O6i7rRx3U1BuLGc2TMQUjA8UWzk3DwuvFeo-dEmYlnjlQ4YDZE1v1dPqf73fdm0QvehDXphAs7rSU5DxVF6EFq6lF1E-pdIsRaa47wSi0lqpzKoYy7YdcFCJPcezi9kkUZlIrvkhppsogeY9_Ln48vriDdTxbAuofXhu4UhLiBwPIYqrYg6_y3mAgmNzOVzHCfMtXxVSArYIEqzZzJFRTww.kjjB9YaSOV4jdULJf4dnLg'\n",
        "\n",
        "# Step 3: Make API Request\n",
        "start_date = '2023-01-01'\n",
        "end_date = '2023-10-30'\n",
        "endpoint = f'{base_url}/v3/company/{company_id}/reports/ItemSales?start_duedate={start_date}&end_duedate={end_date}'\n",
        "\n",
        "headers = {\n",
        "    'Authorization': f'Bearer {access_token}',\n",
        "    'Accept': 'application/json',\n",
        "}\n",
        "\n",
        "response = requests.get(endpoint, headers=headers)\n",
        "\n",
        "if response.status_code == 200:\n",
        "    data = response.json()\n",
        "    print(\"API Response:\")\n",
        "    print(data)\n",
        "else:\n",
        "    print(\"API Request Failed. Status Code:\", response.status_code)\n",
        "\n"
      ],
      "metadata": {
        "colab": {
          "base_uri": "https://localhost:8080/"
        },
        "id": "QOTR-cJsGDLp",
        "outputId": "4502ae04-025d-4814-a8b1-6f50163bdce9"
      },
      "execution_count": 29,
      "outputs": [
        {
          "output_type": "stream",
          "name": "stdout",
          "text": [
            "Go to the following URL to authorize your app:\n",
            "https://appcenter.intuit.com/connect/oauth2?client_id=ABqgksdA7igithWqot2OGgoQPV51cJ7s3DEXk8KhF9niP7B2DN&redirect_uri=https://developer.intuit.com/v2/OAuth2Playground/RedirectUrl&response_type=code&scope=com.intuit.quickbooks.accounting\n",
            "API Response:\n",
            "{'Header': {'Time': '2023-10-31T03:34:09-07:00', 'ReportName': 'ItemSales', 'DateMacro': 'this month-to-date', 'ReportBasis': 'Accrual', 'StartPeriod': '2023-10-01', 'EndPeriod': '2023-10-31', 'SummarizeColumnsBy': 'Total', 'Currency': 'USD', 'Option': [{'Name': 'NoReportData', 'Value': 'true'}]}, 'Columns': {'Column': [{'ColTitle': '', 'ColType': 'ProductsAndService'}]}, 'Rows': {'Row': [{'ColData': [{'value': 'TOTAL'}], 'group': 'GrandTotal'}]}}\n"
          ]
        }
      ]
    },
    {
      "cell_type": "markdown",
      "source": [
        "======================================================================================================"
      ],
      "metadata": {
        "id": "8Sl7h6u2T6YE"
      }
    },
    {
      "cell_type": "code",
      "source": [
        "from qbClient import AuthClient\n",
        "import constants as cfg\n",
        "import requests\n",
        "from future.moves.urllib.parse import urlencode\n"
      ],
      "metadata": {
        "id": "AuaKEBtrUNA8"
      },
      "execution_count": 30,
      "outputs": []
    },
    {
      "cell_type": "code",
      "source": [
        "auth_client = AuthClient(**cfg.client_secrets)\n"
      ],
      "metadata": {
        "id": "HDiO9mmMUVSh"
      },
      "execution_count": 31,
      "outputs": []
    },
    {
      "cell_type": "code",
      "source": [
        "\n",
        "\n",
        "def getCustomerData(accessToken):\n",
        "    #making Request\n",
        "    base_url = 'https://sandbox-quickbooks.api.intuit.com'\n",
        "    url = '/v3/company/1386066315/reports/ItemSales?start_duedate=2015-08-01&end_duedate=2015-09-30'.format(base_url, cfg.qBData[\"realm_id\"])\n",
        "    auth_header = 'Bearer {0}'.format(accessToken)\n",
        "    headers = {\n",
        "        'Authorization': auth_header,\n",
        "        'Accept': 'application/json'\n",
        "    }\n",
        "    response = requests.get(url, headers=headers)\n",
        "\n",
        "    print(\"Response = \",response)\n",
        "    print(\"Response Data = \",response.text)\n",
        "\n",
        "    print(\"Success\")\n",
        "\n",
        "def refresh_token():\n",
        "    response = auth_client.refresh(refresh_token=cfg.refreshToken)\n",
        "    return response\n",
        "\n",
        "def getPaymentData(accessToken):\n",
        "    #making Request\n",
        "    base_url = f'https://sandbox.api.intuit.com/quickbooks/v4/payments/charges/'\n",
        "    auth_header = 'Bearer {0}'.format(accessToken)\n",
        "    data = {\n",
        "        'Authorization': auth_header\n",
        "    }\n",
        "    headers = {\n",
        "        'Authorization': auth_header,\n",
        "        'Accept': 'application/json;charset=UTF-8',\n",
        "        'Content-type': '*/*'\n",
        "    }\n",
        "\n",
        "    response = requests.get(base_url, headers=headers)\n",
        "\n",
        "    print(\"Response 2 = \",response)\n",
        "    print(\"Response Data 2 = \",response.text)\n",
        "\n",
        "    print(\"Success\")\n",
        "\n",
        "\n",
        "if __name__ == \"__main__\":\n",
        "    # fetchData()\n",
        "    response = refresh_token()\n",
        "    getCustomerData(accessToken = response[\"access_token\"])\n",
        "    response2 = auth_client.get_user_info(access_token=response[\"access_token\"])\n",
        "    print(response2.text)\n",
        "    print(\"\\n\\n\\n\")\n",
        "    getPaymentData(accessToken = response[\"access_token\"])\n"
      ],
      "metadata": {
        "colab": {
          "base_uri": "https://localhost:8080/",
          "height": 390
        },
        "id": "hUvyMbEVQ4iF",
        "outputId": "15783ee6-9d53-4805-c8e2-43ccf5752eca"
      },
      "execution_count": 33,
      "outputs": [
        {
          "output_type": "error",
          "ename": "AuthClientError",
          "evalue": "ignored",
          "traceback": [
            "\u001b[0;31m---------------------------------------------------------------------------\u001b[0m",
            "\u001b[0;31mAuthClientError\u001b[0m                           Traceback (most recent call last)",
            "\u001b[0;32m<ipython-input-33-98cb1e43f609>\u001b[0m in \u001b[0;36m<cell line: 42>\u001b[0;34m()\u001b[0m\n\u001b[1;32m     42\u001b[0m \u001b[0;32mif\u001b[0m \u001b[0m__name__\u001b[0m \u001b[0;34m==\u001b[0m \u001b[0;34m\"__main__\"\u001b[0m\u001b[0;34m:\u001b[0m\u001b[0;34m\u001b[0m\u001b[0;34m\u001b[0m\u001b[0m\n\u001b[1;32m     43\u001b[0m     \u001b[0;31m# fetchData()\u001b[0m\u001b[0;34m\u001b[0m\u001b[0;34m\u001b[0m\u001b[0m\n\u001b[0;32m---> 44\u001b[0;31m     \u001b[0mresponse\u001b[0m \u001b[0;34m=\u001b[0m \u001b[0mrefresh_token\u001b[0m\u001b[0;34m(\u001b[0m\u001b[0;34m)\u001b[0m\u001b[0;34m\u001b[0m\u001b[0;34m\u001b[0m\u001b[0m\n\u001b[0m\u001b[1;32m     45\u001b[0m     \u001b[0mgetCustomerData\u001b[0m\u001b[0;34m(\u001b[0m\u001b[0maccessToken\u001b[0m \u001b[0;34m=\u001b[0m \u001b[0mresponse\u001b[0m\u001b[0;34m[\u001b[0m\u001b[0;34m\"access_token\"\u001b[0m\u001b[0;34m]\u001b[0m\u001b[0;34m)\u001b[0m\u001b[0;34m\u001b[0m\u001b[0;34m\u001b[0m\u001b[0m\n\u001b[1;32m     46\u001b[0m     \u001b[0mresponse2\u001b[0m \u001b[0;34m=\u001b[0m \u001b[0mauth_client\u001b[0m\u001b[0;34m.\u001b[0m\u001b[0mget_user_info\u001b[0m\u001b[0;34m(\u001b[0m\u001b[0maccess_token\u001b[0m\u001b[0;34m=\u001b[0m\u001b[0mresponse\u001b[0m\u001b[0;34m[\u001b[0m\u001b[0;34m\"access_token\"\u001b[0m\u001b[0;34m]\u001b[0m\u001b[0;34m)\u001b[0m\u001b[0;34m\u001b[0m\u001b[0;34m\u001b[0m\u001b[0m\n",
            "\u001b[0;32m<ipython-input-33-98cb1e43f609>\u001b[0m in \u001b[0;36mrefresh_token\u001b[0;34m()\u001b[0m\n\u001b[1;32m     16\u001b[0m \u001b[0;34m\u001b[0m\u001b[0m\n\u001b[1;32m     17\u001b[0m \u001b[0;32mdef\u001b[0m \u001b[0mrefresh_token\u001b[0m\u001b[0;34m(\u001b[0m\u001b[0;34m)\u001b[0m\u001b[0;34m:\u001b[0m\u001b[0;34m\u001b[0m\u001b[0;34m\u001b[0m\u001b[0m\n\u001b[0;32m---> 18\u001b[0;31m     \u001b[0mresponse\u001b[0m \u001b[0;34m=\u001b[0m \u001b[0mauth_client\u001b[0m\u001b[0;34m.\u001b[0m\u001b[0mrefresh\u001b[0m\u001b[0;34m(\u001b[0m\u001b[0mrefresh_token\u001b[0m\u001b[0;34m=\u001b[0m\u001b[0mcfg\u001b[0m\u001b[0;34m.\u001b[0m\u001b[0mrefreshToken\u001b[0m\u001b[0;34m)\u001b[0m\u001b[0;34m\u001b[0m\u001b[0;34m\u001b[0m\u001b[0m\n\u001b[0m\u001b[1;32m     19\u001b[0m     \u001b[0;32mreturn\u001b[0m \u001b[0mresponse\u001b[0m\u001b[0;34m\u001b[0m\u001b[0;34m\u001b[0m\u001b[0m\n\u001b[1;32m     20\u001b[0m \u001b[0;34m\u001b[0m\u001b[0m\n",
            "\u001b[0;32m/content/qbClient.py\u001b[0m in \u001b[0;36mrefresh\u001b[0;34m(self, refresh_token)\u001b[0m\n\u001b[1;32m    141\u001b[0m         }\n\u001b[1;32m    142\u001b[0m \u001b[0;34m\u001b[0m\u001b[0m\n\u001b[0;32m--> 143\u001b[0;31m         \u001b[0mresponse\u001b[0m \u001b[0;34m=\u001b[0m \u001b[0msend_request\u001b[0m\u001b[0;34m(\u001b[0m\u001b[0;34m'POST'\u001b[0m\u001b[0;34m,\u001b[0m \u001b[0mself\u001b[0m\u001b[0;34m.\u001b[0m\u001b[0mtoken_endpoint\u001b[0m\u001b[0;34m,\u001b[0m \u001b[0mheaders\u001b[0m\u001b[0;34m,\u001b[0m \u001b[0mself\u001b[0m\u001b[0;34m,\u001b[0m \u001b[0mbody\u001b[0m\u001b[0;34m=\u001b[0m\u001b[0murlencode\u001b[0m\u001b[0;34m(\u001b[0m\u001b[0mbody\u001b[0m\u001b[0;34m)\u001b[0m\u001b[0;34m,\u001b[0m \u001b[0msession\u001b[0m\u001b[0;34m=\u001b[0m\u001b[0mself\u001b[0m\u001b[0;34m)\u001b[0m\u001b[0;34m\u001b[0m\u001b[0;34m\u001b[0m\u001b[0m\n\u001b[0m\u001b[1;32m    144\u001b[0m \u001b[0;34m\u001b[0m\u001b[0m\n\u001b[1;32m    145\u001b[0m         \u001b[0;32mreturn\u001b[0m \u001b[0mresponse\u001b[0m\u001b[0;34m.\u001b[0m\u001b[0mjson\u001b[0m\u001b[0;34m(\u001b[0m\u001b[0;34m)\u001b[0m\u001b[0;34m\u001b[0m\u001b[0;34m\u001b[0m\u001b[0m\n",
            "\u001b[0;32m/usr/local/lib/python3.10/dist-packages/intuitlib/utils.py\u001b[0m in \u001b[0;36msend_request\u001b[0;34m(method, url, header, obj, body, session, oauth1_header)\u001b[0m\n\u001b[1;32m     95\u001b[0m \u001b[0;34m\u001b[0m\u001b[0m\n\u001b[1;32m     96\u001b[0m     \u001b[0;32mif\u001b[0m \u001b[0mresponse\u001b[0m\u001b[0;34m.\u001b[0m\u001b[0mstatus_code\u001b[0m \u001b[0;34m!=\u001b[0m \u001b[0;36m200\u001b[0m\u001b[0;34m:\u001b[0m\u001b[0;34m\u001b[0m\u001b[0;34m\u001b[0m\u001b[0m\n\u001b[0;32m---> 97\u001b[0;31m         \u001b[0;32mraise\u001b[0m \u001b[0mAuthClientError\u001b[0m\u001b[0;34m(\u001b[0m\u001b[0mresponse\u001b[0m\u001b[0;34m)\u001b[0m\u001b[0;34m\u001b[0m\u001b[0;34m\u001b[0m\u001b[0m\n\u001b[0m\u001b[1;32m     98\u001b[0m \u001b[0;34m\u001b[0m\u001b[0m\n\u001b[1;32m     99\u001b[0m     \u001b[0;32mif\u001b[0m \u001b[0mresponse\u001b[0m\u001b[0;34m.\u001b[0m\u001b[0mcontent\u001b[0m\u001b[0;34m:\u001b[0m\u001b[0;34m\u001b[0m\u001b[0;34m\u001b[0m\u001b[0m\n",
            "\u001b[0;31mAuthClientError\u001b[0m: HTTP status 400, error message: b'{\"error\":\"invalid_grant\"}', intuit_tid 1-6540d9eb-2dafd17e3fd078d00f92ebd4 at time Tue, 31 Oct 2023 10:41:47 GMT"
          ]
        }
      ]
    },
    {
      "cell_type": "markdown",
      "source": [
        "==========================================================================================="
      ],
      "metadata": {
        "id": "RuHzEnR5U6NE"
      }
    },
    {
      "cell_type": "code",
      "source": [
        "pip install python-quickbooks"
      ],
      "metadata": {
        "colab": {
          "base_uri": "https://localhost:8080/"
        },
        "id": "EcLb5vwFUptc",
        "outputId": "950ae648-cdcd-4220-ef15-1b6d8512c05c"
      },
      "execution_count": 34,
      "outputs": [
        {
          "output_type": "stream",
          "name": "stdout",
          "text": [
            "Requirement already satisfied: python-quickbooks in /usr/local/lib/python3.10/dist-packages (0.9.4)\n",
            "Requirement already satisfied: setuptools in /usr/local/lib/python3.10/dist-packages (from python-quickbooks) (67.7.2)\n",
            "Requirement already satisfied: intuit-oauth==1.2.4 in /usr/local/lib/python3.10/dist-packages (from python-quickbooks) (1.2.4)\n",
            "Requirement already satisfied: rauth>=0.7.3 in /usr/local/lib/python3.10/dist-packages (from python-quickbooks) (0.7.3)\n",
            "Requirement already satisfied: requests>=2.31.0 in /usr/local/lib/python3.10/dist-packages (from python-quickbooks) (2.31.0)\n",
            "Requirement already satisfied: simplejson>=3.19.1 in /usr/local/lib/python3.10/dist-packages (from python-quickbooks) (3.19.2)\n",
            "Requirement already satisfied: python-dateutil in /usr/local/lib/python3.10/dist-packages (from python-quickbooks) (2.8.2)\n",
            "Requirement already satisfied: python-jose>=2.0.2 in /usr/local/lib/python3.10/dist-packages (from intuit-oauth==1.2.4->python-quickbooks) (3.3.0)\n",
            "Requirement already satisfied: future>=0.16.0 in /usr/local/lib/python3.10/dist-packages (from intuit-oauth==1.2.4->python-quickbooks) (0.18.3)\n",
            "Requirement already satisfied: requests-oauthlib>=1.0.0 in /usr/local/lib/python3.10/dist-packages (from intuit-oauth==1.2.4->python-quickbooks) (1.3.1)\n",
            "Requirement already satisfied: six>=1.10.0 in /usr/local/lib/python3.10/dist-packages (from intuit-oauth==1.2.4->python-quickbooks) (1.16.0)\n",
            "Requirement already satisfied: enum-compat in /usr/local/lib/python3.10/dist-packages (from intuit-oauth==1.2.4->python-quickbooks) (0.0.3)\n",
            "Requirement already satisfied: charset-normalizer<4,>=2 in /usr/local/lib/python3.10/dist-packages (from requests>=2.31.0->python-quickbooks) (3.3.1)\n",
            "Requirement already satisfied: idna<4,>=2.5 in /usr/local/lib/python3.10/dist-packages (from requests>=2.31.0->python-quickbooks) (3.4)\n",
            "Requirement already satisfied: urllib3<3,>=1.21.1 in /usr/local/lib/python3.10/dist-packages (from requests>=2.31.0->python-quickbooks) (2.0.7)\n",
            "Requirement already satisfied: certifi>=2017.4.17 in /usr/local/lib/python3.10/dist-packages (from requests>=2.31.0->python-quickbooks) (2023.7.22)\n",
            "Requirement already satisfied: ecdsa!=0.15 in /usr/local/lib/python3.10/dist-packages (from python-jose>=2.0.2->intuit-oauth==1.2.4->python-quickbooks) (0.18.0)\n",
            "Requirement already satisfied: rsa in /usr/local/lib/python3.10/dist-packages (from python-jose>=2.0.2->intuit-oauth==1.2.4->python-quickbooks) (4.9)\n",
            "Requirement already satisfied: pyasn1 in /usr/local/lib/python3.10/dist-packages (from python-jose>=2.0.2->intuit-oauth==1.2.4->python-quickbooks) (0.5.0)\n",
            "Requirement already satisfied: oauthlib>=3.0.0 in /usr/local/lib/python3.10/dist-packages (from requests-oauthlib>=1.0.0->intuit-oauth==1.2.4->python-quickbooks) (3.2.2)\n"
          ]
        }
      ]
    },
    {
      "cell_type": "code",
      "source": [
        "from intuitlib.client import AuthClient\n",
        "\n",
        "auth_client = AuthClient(\n",
        "        client_id='ABqgksdA7igithWqot2OGgoQPV51cJ7s3DEXk8KhF9niP7B2DN',\n",
        "        client_secret='Ha8Dv7ADXzkZmG12T9mjy7MzFKPNGBclvV8vpEGU',\n",
        "        access_token='eyJlbmMiOiJBMTI4Q0JDLUhTMjU2IiwiYWxnIjoiZGlyIn0.._nvlEChJ4IsYoKmT4B5jiw.0mBMQAR-QrPxEOcb6-oAXrOT22BjyCMP4sJtFjL1mgkxRV7BzXYSnW7mEs4dgmY9xkF7gQbhpPYGTSi0il6Z3ahqw6g6SODtccueInLXfAZ4vQiOg49zMW0PMApio2155Kq1-GpnWgiMb-CVejQZv86d1LFaC0t_wrvJgX7omWTadp6tYy-DwDejMr875fsN_0UeIJwo9poULKsGYKCPQF3SKPO_qYOVt9DeJezHc98nAuGWsOiZtqcMYruJ49Y7EpBxMtJQRp-PW1wPl12zGhp3db3kmhot06ZUDf03J9VH2ENoDwSRFYWzr3jfo49gY8ZESbrgTVrKFtXrrJ3ep2asODp7qsMwMZN34KSUwuLP2bEDzEvoG7E6huinVZZlpZ9W030Dh46cgi_ELlJahp1ZyVCuhP9Us8U7v_q5B0bJ6DkjtQHU1Abd7WAX4wnQAh5cHxHmU3-5XiZnKHrcNODy680COJdBXlSh6PUdhC7X-3NRX-7iHS17FYfQsHpH-HCUhPxq6azxijMiFOqJzykKk4ajSHEnn3rQBzwlhnDmdzdujWpsnRKKqTHOcdr5dcBEjzqh13zsrnu090_fk4s8vDsMsJV1_phUf-mwt3_15FPfKf7HFZkdt1YbFl8N_QrkgPW2wVXeTWk895Sqasgozz5kYrZS-sClu44OpHa2E5vLXLsZ2t8HacRgyyiE2fe4zfiR6fIeTMqp1bXzcKYXixnGeEBpGGQBlTpKPdpTReleQ15q5h7494MCo7vR_1KbEAAXora54WCZkerkiv60Yd3V3kOUfAXOawPfo-L1WDFMockwkVn4OOZfnHz5gM9z4MQfqbrkULQKTj8DNS_jk-8O97C4VN0KHY77J9rDc0VFdSGBjS9MWyYAtNVe9rPRjemqmRQnYQcKSd5IFg.-DF-CrHmS1gvuUFMceW9zQ',  # If you do not pass this in, the Quickbooks client will call refresh and get a new access token.\n",
        "        environment='sandbox',\n",
        "        redirect_uri='http://localhost:8000/callback',\n",
        "    )"
      ],
      "metadata": {
        "id": "kjOnbkjeU70e"
      },
      "execution_count": 35,
      "outputs": []
    },
    {
      "cell_type": "code",
      "source": [
        "from quickbooks import QuickBooks\n",
        "\n",
        "client = QuickBooks(\n",
        "        auth_client=auth_client,\n",
        "        refresh_token='AB11707475399TpKOLD0uggLKxVleNl4sMBjYkheRN3zCFdfST',\n",
        "        company_id='4620816365163649250',\n",
        "    )"
      ],
      "metadata": {
        "id": "pXZjtcNmVQhq"
      },
      "execution_count": 37,
      "outputs": []
    },
    {
      "cell_type": "code",
      "source": [
        "client = QuickBooks(\n",
        "    auth_client=auth_client,\n",
        "    refresh_token='AB11707475399TpKOLD0uggLKxVleNl4sMBjYkheRN3zCFdfST',\n",
        "    company_id='4620816365163649250',\n",
        "    minorversion=69\n",
        ")"
      ],
      "metadata": {
        "id": "PgoK6L56VTA7"
      },
      "execution_count": 38,
      "outputs": []
    },
    {
      "cell_type": "code",
      "source": [
        "from quickbooks.objects.customer import Customer\n",
        "customers = Customer.all(qb=client)"
      ],
      "metadata": {
        "id": "54ZK4-PVVc2K"
      },
      "execution_count": 39,
      "outputs": []
    },
    {
      "cell_type": "code",
      "source": [
        "import requests"
      ],
      "metadata": {
        "id": "wvMhbme9W450"
      },
      "execution_count": 51,
      "outputs": []
    },
    {
      "cell_type": "code",
      "source": [
        "\n",
        "\n",
        "# Your QuickBooks API credentials\n",
        "client_id = \"ABqgksdA7igithWqot2OGgoQPV51cJ7s3DEXk8KhF9niP7B2DN\"\n",
        "client_secret = \"Ha8Dv7ADXzkZmG12T9mjy7MzFKPNGBclvV8vpEGU\"\n",
        "access_token = \"eyJlbmMiOiJBMTI4Q0JDLUhTMjU2IiwiYWxnIjoiZGlyIn0.._nvlEChJ4IsYoKmT4B5jiw.0mBMQAR-QrPxEOcb6-oAXrOT22BjyCMP4sJtFjL1mgkxRV7BzXYSnW7mEs4dgmY9xkF7gQbhpPYGTSi0il6Z3ahqw6g6SODtccueInLXfAZ4vQiOg49zMW0PMApio2155Kq1-GpnWgiMb-CVejQZv86d1LFaC0t_wrvJgX7omWTadp6tYy-DwDejMr875fsN_0UeIJwo9poULKsGYKCPQF3SKPO_qYOVt9DeJezHc98nAuGWsOiZtqcMYruJ49Y7EpBxMtJQRp-PW1wPl12zGhp3db3kmhot06ZUDf03J9VH2ENoDwSRFYWzr3jfo49gY8ZESbrgTVrKFtXrrJ3ep2asODp7qsMwMZN34KSUwuLP2bEDzEvoG7E6huinVZZlpZ9W030Dh46cgi_ELlJahp1ZyVCuhP9Us8U7v_q5B0bJ6DkjtQHU1Abd7WAX4wnQAh5cHxHmU3-5XiZnKHrcNODy680COJdBXlSh6PUdhC7X-3NRX-7iHS17FYfQsHpH-HCUhPxq6azxijMiFOqJzykKk4ajSHEnn3rQBzwlhnDmdzdujWpsnRKKqTHOcdr5dcBEjzqh13zsrnu090_fk4s8vDsMsJV1_phUf-mwt3_15FPfKf7HFZkdt1YbFl8N_QrkgPW2wVXeTWk895Sqasgozz5kYrZS-sClu44OpHa2E5vLXLsZ2t8HacRgyyiE2fe4zfiR6fIeTMqp1bXzcKYXixnGeEBpGGQBlTpKPdpTReleQ15q5h7494MCo7vR_1KbEAAXora54WCZkerkiv60Yd3V3kOUfAXOawPfo-L1WDFMockwkVn4OOZfnHz5gM9z4MQfqbrkULQKTj8DNS_jk-8O97C4VN0KHY77J9rDc0VFdSGBjS9MWyYAtNVe9rPRjemqmRQnYQcKSd5IFg.-DF-CrHmS1gvuUFMceW9zQ\"  # Obtained after authentication\n",
        "\n",
        "# QuickBooks API endpoint to retrieve invoices\n",
        "api_url = \"https://api.quickbooks.com/v4/invoices\"\n",
        "\n",
        "# Set up the request headers\n",
        "headers = {\n",
        "    \"Authorization\": f\"Bearer {access_token}\",\n",
        "    \"Accept\": \"application/json\",\n",
        "}\n",
        "\n",
        "# Make the API request\n",
        "response = requests.get(api_url, headers=headers)\n",
        "\n",
        "if response.status_code == 200:\n",
        "    # Parse the JSON response\n",
        "    invoice_data = response.json()\n",
        "    # Process the invoice data as needed\n",
        "    print(invoice_data)\n",
        "else:\n",
        "    print(\"Failed to retrieve invoice data. Status code:\", response.status_code)\n",
        "    print(response.text)\n"
      ],
      "metadata": {
        "colab": {
          "base_uri": "https://localhost:8080/",
          "height": 650
        },
        "id": "DQpjFLgdWotr",
        "outputId": "c9a7ff18-867f-4eb0-a3bf-a590597ddd8d"
      },
      "execution_count": 52,
      "outputs": [
        {
          "output_type": "error",
          "ename": "ConnectionError",
          "evalue": "ignored",
          "traceback": [
            "\u001b[0;31m---------------------------------------------------------------------------\u001b[0m",
            "\u001b[0;31mgaierror\u001b[0m                                  Traceback (most recent call last)",
            "\u001b[0;32m/usr/local/lib/python3.10/dist-packages/urllib3/connection.py\u001b[0m in \u001b[0;36m_new_conn\u001b[0;34m(self)\u001b[0m\n\u001b[1;32m    202\u001b[0m         \u001b[0;32mtry\u001b[0m\u001b[0;34m:\u001b[0m\u001b[0;34m\u001b[0m\u001b[0;34m\u001b[0m\u001b[0m\n\u001b[0;32m--> 203\u001b[0;31m             sock = connection.create_connection(\n\u001b[0m\u001b[1;32m    204\u001b[0m                 \u001b[0;34m(\u001b[0m\u001b[0mself\u001b[0m\u001b[0;34m.\u001b[0m\u001b[0m_dns_host\u001b[0m\u001b[0;34m,\u001b[0m \u001b[0mself\u001b[0m\u001b[0;34m.\u001b[0m\u001b[0mport\u001b[0m\u001b[0;34m)\u001b[0m\u001b[0;34m,\u001b[0m\u001b[0;34m\u001b[0m\u001b[0;34m\u001b[0m\u001b[0m\n",
            "\u001b[0;32m/usr/local/lib/python3.10/dist-packages/urllib3/util/connection.py\u001b[0m in \u001b[0;36mcreate_connection\u001b[0;34m(address, timeout, source_address, socket_options)\u001b[0m\n\u001b[1;32m     59\u001b[0m \u001b[0;34m\u001b[0m\u001b[0m\n\u001b[0;32m---> 60\u001b[0;31m     \u001b[0;32mfor\u001b[0m \u001b[0mres\u001b[0m \u001b[0;32min\u001b[0m \u001b[0msocket\u001b[0m\u001b[0;34m.\u001b[0m\u001b[0mgetaddrinfo\u001b[0m\u001b[0;34m(\u001b[0m\u001b[0mhost\u001b[0m\u001b[0;34m,\u001b[0m \u001b[0mport\u001b[0m\u001b[0;34m,\u001b[0m \u001b[0mfamily\u001b[0m\u001b[0;34m,\u001b[0m \u001b[0msocket\u001b[0m\u001b[0;34m.\u001b[0m\u001b[0mSOCK_STREAM\u001b[0m\u001b[0;34m)\u001b[0m\u001b[0;34m:\u001b[0m\u001b[0;34m\u001b[0m\u001b[0;34m\u001b[0m\u001b[0m\n\u001b[0m\u001b[1;32m     61\u001b[0m         \u001b[0maf\u001b[0m\u001b[0;34m,\u001b[0m \u001b[0msocktype\u001b[0m\u001b[0;34m,\u001b[0m \u001b[0mproto\u001b[0m\u001b[0;34m,\u001b[0m \u001b[0mcanonname\u001b[0m\u001b[0;34m,\u001b[0m \u001b[0msa\u001b[0m \u001b[0;34m=\u001b[0m \u001b[0mres\u001b[0m\u001b[0;34m\u001b[0m\u001b[0;34m\u001b[0m\u001b[0m\n",
            "\u001b[0;32m/usr/lib/python3.10/socket.py\u001b[0m in \u001b[0;36mgetaddrinfo\u001b[0;34m(host, port, family, type, proto, flags)\u001b[0m\n\u001b[1;32m    954\u001b[0m     \u001b[0maddrlist\u001b[0m \u001b[0;34m=\u001b[0m \u001b[0;34m[\u001b[0m\u001b[0;34m]\u001b[0m\u001b[0;34m\u001b[0m\u001b[0;34m\u001b[0m\u001b[0m\n\u001b[0;32m--> 955\u001b[0;31m     \u001b[0;32mfor\u001b[0m \u001b[0mres\u001b[0m \u001b[0;32min\u001b[0m \u001b[0m_socket\u001b[0m\u001b[0;34m.\u001b[0m\u001b[0mgetaddrinfo\u001b[0m\u001b[0;34m(\u001b[0m\u001b[0mhost\u001b[0m\u001b[0;34m,\u001b[0m \u001b[0mport\u001b[0m\u001b[0;34m,\u001b[0m \u001b[0mfamily\u001b[0m\u001b[0;34m,\u001b[0m \u001b[0mtype\u001b[0m\u001b[0;34m,\u001b[0m \u001b[0mproto\u001b[0m\u001b[0;34m,\u001b[0m \u001b[0mflags\u001b[0m\u001b[0;34m)\u001b[0m\u001b[0;34m:\u001b[0m\u001b[0;34m\u001b[0m\u001b[0;34m\u001b[0m\u001b[0m\n\u001b[0m\u001b[1;32m    956\u001b[0m         \u001b[0maf\u001b[0m\u001b[0;34m,\u001b[0m \u001b[0msocktype\u001b[0m\u001b[0;34m,\u001b[0m \u001b[0mproto\u001b[0m\u001b[0;34m,\u001b[0m \u001b[0mcanonname\u001b[0m\u001b[0;34m,\u001b[0m \u001b[0msa\u001b[0m \u001b[0;34m=\u001b[0m \u001b[0mres\u001b[0m\u001b[0;34m\u001b[0m\u001b[0;34m\u001b[0m\u001b[0m\n",
            "\u001b[0;31mgaierror\u001b[0m: [Errno -2] Name or service not known",
            "\nThe above exception was the direct cause of the following exception:\n",
            "\u001b[0;31mNameResolutionError\u001b[0m                       Traceback (most recent call last)",
            "\u001b[0;32m/usr/local/lib/python3.10/dist-packages/urllib3/connectionpool.py\u001b[0m in \u001b[0;36murlopen\u001b[0;34m(self, method, url, body, headers, retries, redirect, assert_same_host, timeout, pool_timeout, release_conn, chunked, body_pos, preload_content, decode_content, **response_kw)\u001b[0m\n\u001b[1;32m    790\u001b[0m             \u001b[0;31m# Make the request on the HTTPConnection object\u001b[0m\u001b[0;34m\u001b[0m\u001b[0;34m\u001b[0m\u001b[0m\n\u001b[0;32m--> 791\u001b[0;31m             response = self._make_request(\n\u001b[0m\u001b[1;32m    792\u001b[0m                 \u001b[0mconn\u001b[0m\u001b[0;34m,\u001b[0m\u001b[0;34m\u001b[0m\u001b[0;34m\u001b[0m\u001b[0m\n",
            "\u001b[0;32m/usr/local/lib/python3.10/dist-packages/urllib3/connectionpool.py\u001b[0m in \u001b[0;36m_make_request\u001b[0;34m(self, conn, method, url, body, headers, retries, timeout, chunked, response_conn, preload_content, decode_content, enforce_content_length)\u001b[0m\n\u001b[1;32m    491\u001b[0m                 \u001b[0mnew_e\u001b[0m \u001b[0;34m=\u001b[0m \u001b[0m_wrap_proxy_error\u001b[0m\u001b[0;34m(\u001b[0m\u001b[0mnew_e\u001b[0m\u001b[0;34m,\u001b[0m \u001b[0mconn\u001b[0m\u001b[0;34m.\u001b[0m\u001b[0mproxy\u001b[0m\u001b[0;34m.\u001b[0m\u001b[0mscheme\u001b[0m\u001b[0;34m)\u001b[0m\u001b[0;34m\u001b[0m\u001b[0;34m\u001b[0m\u001b[0m\n\u001b[0;32m--> 492\u001b[0;31m             \u001b[0;32mraise\u001b[0m \u001b[0mnew_e\u001b[0m\u001b[0;34m\u001b[0m\u001b[0;34m\u001b[0m\u001b[0m\n\u001b[0m\u001b[1;32m    493\u001b[0m \u001b[0;34m\u001b[0m\u001b[0m\n",
            "\u001b[0;32m/usr/local/lib/python3.10/dist-packages/urllib3/connectionpool.py\u001b[0m in \u001b[0;36m_make_request\u001b[0;34m(self, conn, method, url, body, headers, retries, timeout, chunked, response_conn, preload_content, decode_content, enforce_content_length)\u001b[0m\n\u001b[1;32m    467\u001b[0m             \u001b[0;32mtry\u001b[0m\u001b[0;34m:\u001b[0m\u001b[0;34m\u001b[0m\u001b[0;34m\u001b[0m\u001b[0m\n\u001b[0;32m--> 468\u001b[0;31m                 \u001b[0mself\u001b[0m\u001b[0;34m.\u001b[0m\u001b[0m_validate_conn\u001b[0m\u001b[0;34m(\u001b[0m\u001b[0mconn\u001b[0m\u001b[0;34m)\u001b[0m\u001b[0;34m\u001b[0m\u001b[0;34m\u001b[0m\u001b[0m\n\u001b[0m\u001b[1;32m    469\u001b[0m             \u001b[0;32mexcept\u001b[0m \u001b[0;34m(\u001b[0m\u001b[0mSocketTimeout\u001b[0m\u001b[0;34m,\u001b[0m \u001b[0mBaseSSLError\u001b[0m\u001b[0;34m)\u001b[0m \u001b[0;32mas\u001b[0m \u001b[0me\u001b[0m\u001b[0;34m:\u001b[0m\u001b[0;34m\u001b[0m\u001b[0;34m\u001b[0m\u001b[0m\n",
            "\u001b[0;32m/usr/local/lib/python3.10/dist-packages/urllib3/connectionpool.py\u001b[0m in \u001b[0;36m_validate_conn\u001b[0;34m(self, conn)\u001b[0m\n\u001b[1;32m   1096\u001b[0m         \u001b[0;32mif\u001b[0m \u001b[0mconn\u001b[0m\u001b[0;34m.\u001b[0m\u001b[0mis_closed\u001b[0m\u001b[0;34m:\u001b[0m\u001b[0;34m\u001b[0m\u001b[0;34m\u001b[0m\u001b[0m\n\u001b[0;32m-> 1097\u001b[0;31m             \u001b[0mconn\u001b[0m\u001b[0;34m.\u001b[0m\u001b[0mconnect\u001b[0m\u001b[0;34m(\u001b[0m\u001b[0;34m)\u001b[0m\u001b[0;34m\u001b[0m\u001b[0;34m\u001b[0m\u001b[0m\n\u001b[0m\u001b[1;32m   1098\u001b[0m \u001b[0;34m\u001b[0m\u001b[0m\n",
            "\u001b[0;32m/usr/local/lib/python3.10/dist-packages/urllib3/connection.py\u001b[0m in \u001b[0;36mconnect\u001b[0;34m(self)\u001b[0m\n\u001b[1;32m    610\u001b[0m         \u001b[0msock\u001b[0m\u001b[0;34m:\u001b[0m \u001b[0msocket\u001b[0m\u001b[0;34m.\u001b[0m\u001b[0msocket\u001b[0m \u001b[0;34m|\u001b[0m \u001b[0mssl\u001b[0m\u001b[0;34m.\u001b[0m\u001b[0mSSLSocket\u001b[0m\u001b[0;34m\u001b[0m\u001b[0;34m\u001b[0m\u001b[0m\n\u001b[0;32m--> 611\u001b[0;31m         \u001b[0mself\u001b[0m\u001b[0;34m.\u001b[0m\u001b[0msock\u001b[0m \u001b[0;34m=\u001b[0m \u001b[0msock\u001b[0m \u001b[0;34m=\u001b[0m \u001b[0mself\u001b[0m\u001b[0;34m.\u001b[0m\u001b[0m_new_conn\u001b[0m\u001b[0;34m(\u001b[0m\u001b[0;34m)\u001b[0m\u001b[0;34m\u001b[0m\u001b[0;34m\u001b[0m\u001b[0m\n\u001b[0m\u001b[1;32m    612\u001b[0m         \u001b[0mserver_hostname\u001b[0m\u001b[0;34m:\u001b[0m \u001b[0mstr\u001b[0m \u001b[0;34m=\u001b[0m \u001b[0mself\u001b[0m\u001b[0;34m.\u001b[0m\u001b[0mhost\u001b[0m\u001b[0;34m\u001b[0m\u001b[0;34m\u001b[0m\u001b[0m\n",
            "\u001b[0;32m/usr/local/lib/python3.10/dist-packages/urllib3/connection.py\u001b[0m in \u001b[0;36m_new_conn\u001b[0;34m(self)\u001b[0m\n\u001b[1;32m    209\u001b[0m         \u001b[0;32mexcept\u001b[0m \u001b[0msocket\u001b[0m\u001b[0;34m.\u001b[0m\u001b[0mgaierror\u001b[0m \u001b[0;32mas\u001b[0m \u001b[0me\u001b[0m\u001b[0;34m:\u001b[0m\u001b[0;34m\u001b[0m\u001b[0;34m\u001b[0m\u001b[0m\n\u001b[0;32m--> 210\u001b[0;31m             \u001b[0;32mraise\u001b[0m \u001b[0mNameResolutionError\u001b[0m\u001b[0;34m(\u001b[0m\u001b[0mself\u001b[0m\u001b[0;34m.\u001b[0m\u001b[0mhost\u001b[0m\u001b[0;34m,\u001b[0m \u001b[0mself\u001b[0m\u001b[0;34m,\u001b[0m \u001b[0me\u001b[0m\u001b[0;34m)\u001b[0m \u001b[0;32mfrom\u001b[0m \u001b[0me\u001b[0m\u001b[0;34m\u001b[0m\u001b[0;34m\u001b[0m\u001b[0m\n\u001b[0m\u001b[1;32m    211\u001b[0m         \u001b[0;32mexcept\u001b[0m \u001b[0mSocketTimeout\u001b[0m \u001b[0;32mas\u001b[0m \u001b[0me\u001b[0m\u001b[0;34m:\u001b[0m\u001b[0;34m\u001b[0m\u001b[0;34m\u001b[0m\u001b[0m\n",
            "\u001b[0;31mNameResolutionError\u001b[0m: <urllib3.connection.HTTPSConnection object at 0x7df757f2ec50>: Failed to resolve 'api.quickbooks.com' ([Errno -2] Name or service not known)",
            "\nThe above exception was the direct cause of the following exception:\n",
            "\u001b[0;31mMaxRetryError\u001b[0m                             Traceback (most recent call last)",
            "\u001b[0;32m/usr/local/lib/python3.10/dist-packages/requests/adapters.py\u001b[0m in \u001b[0;36msend\u001b[0;34m(self, request, stream, timeout, verify, cert, proxies)\u001b[0m\n\u001b[1;32m    485\u001b[0m         \u001b[0;32mtry\u001b[0m\u001b[0;34m:\u001b[0m\u001b[0;34m\u001b[0m\u001b[0;34m\u001b[0m\u001b[0m\n\u001b[0;32m--> 486\u001b[0;31m             resp = conn.urlopen(\n\u001b[0m\u001b[1;32m    487\u001b[0m                 \u001b[0mmethod\u001b[0m\u001b[0;34m=\u001b[0m\u001b[0mrequest\u001b[0m\u001b[0;34m.\u001b[0m\u001b[0mmethod\u001b[0m\u001b[0;34m,\u001b[0m\u001b[0;34m\u001b[0m\u001b[0;34m\u001b[0m\u001b[0m\n",
            "\u001b[0;32m/usr/local/lib/python3.10/dist-packages/urllib3/connectionpool.py\u001b[0m in \u001b[0;36murlopen\u001b[0;34m(self, method, url, body, headers, retries, redirect, assert_same_host, timeout, pool_timeout, release_conn, chunked, body_pos, preload_content, decode_content, **response_kw)\u001b[0m\n\u001b[1;32m    844\u001b[0m \u001b[0;34m\u001b[0m\u001b[0m\n\u001b[0;32m--> 845\u001b[0;31m             retries = retries.increment(\n\u001b[0m\u001b[1;32m    846\u001b[0m                 \u001b[0mmethod\u001b[0m\u001b[0;34m,\u001b[0m \u001b[0murl\u001b[0m\u001b[0;34m,\u001b[0m \u001b[0merror\u001b[0m\u001b[0;34m=\u001b[0m\u001b[0mnew_e\u001b[0m\u001b[0;34m,\u001b[0m \u001b[0m_pool\u001b[0m\u001b[0;34m=\u001b[0m\u001b[0mself\u001b[0m\u001b[0;34m,\u001b[0m \u001b[0m_stacktrace\u001b[0m\u001b[0;34m=\u001b[0m\u001b[0msys\u001b[0m\u001b[0;34m.\u001b[0m\u001b[0mexc_info\u001b[0m\u001b[0;34m(\u001b[0m\u001b[0;34m)\u001b[0m\u001b[0;34m[\u001b[0m\u001b[0;36m2\u001b[0m\u001b[0;34m]\u001b[0m\u001b[0;34m\u001b[0m\u001b[0;34m\u001b[0m\u001b[0m\n",
            "\u001b[0;32m/usr/local/lib/python3.10/dist-packages/urllib3/util/retry.py\u001b[0m in \u001b[0;36mincrement\u001b[0;34m(self, method, url, response, error, _pool, _stacktrace)\u001b[0m\n\u001b[1;32m    514\u001b[0m             \u001b[0mreason\u001b[0m \u001b[0;34m=\u001b[0m \u001b[0merror\u001b[0m \u001b[0;32mor\u001b[0m \u001b[0mResponseError\u001b[0m\u001b[0;34m(\u001b[0m\u001b[0mcause\u001b[0m\u001b[0;34m)\u001b[0m\u001b[0;34m\u001b[0m\u001b[0;34m\u001b[0m\u001b[0m\n\u001b[0;32m--> 515\u001b[0;31m             \u001b[0;32mraise\u001b[0m \u001b[0mMaxRetryError\u001b[0m\u001b[0;34m(\u001b[0m\u001b[0m_pool\u001b[0m\u001b[0;34m,\u001b[0m \u001b[0murl\u001b[0m\u001b[0;34m,\u001b[0m \u001b[0mreason\u001b[0m\u001b[0;34m)\u001b[0m \u001b[0;32mfrom\u001b[0m \u001b[0mreason\u001b[0m  \u001b[0;31m# type: ignore[arg-type]\u001b[0m\u001b[0;34m\u001b[0m\u001b[0;34m\u001b[0m\u001b[0m\n\u001b[0m\u001b[1;32m    516\u001b[0m \u001b[0;34m\u001b[0m\u001b[0m\n",
            "\u001b[0;31mMaxRetryError\u001b[0m: HTTPSConnectionPool(host='api.quickbooks.com', port=443): Max retries exceeded with url: /v4/invoices (Caused by NameResolutionError(\"<urllib3.connection.HTTPSConnection object at 0x7df757f2ec50>: Failed to resolve 'api.quickbooks.com' ([Errno -2] Name or service not known)\"))",
            "\nDuring handling of the above exception, another exception occurred:\n",
            "\u001b[0;31mConnectionError\u001b[0m                           Traceback (most recent call last)",
            "\u001b[0;32m<ipython-input-52-9612c7ec9683>\u001b[0m in \u001b[0;36m<cell line: 16>\u001b[0;34m()\u001b[0m\n\u001b[1;32m     14\u001b[0m \u001b[0;34m\u001b[0m\u001b[0m\n\u001b[1;32m     15\u001b[0m \u001b[0;31m# Make the API request\u001b[0m\u001b[0;34m\u001b[0m\u001b[0;34m\u001b[0m\u001b[0m\n\u001b[0;32m---> 16\u001b[0;31m \u001b[0mresponse\u001b[0m \u001b[0;34m=\u001b[0m \u001b[0mrequests\u001b[0m\u001b[0;34m.\u001b[0m\u001b[0mget\u001b[0m\u001b[0;34m(\u001b[0m\u001b[0mapi_url\u001b[0m\u001b[0;34m,\u001b[0m \u001b[0mheaders\u001b[0m\u001b[0;34m=\u001b[0m\u001b[0mheaders\u001b[0m\u001b[0;34m)\u001b[0m\u001b[0;34m\u001b[0m\u001b[0;34m\u001b[0m\u001b[0m\n\u001b[0m\u001b[1;32m     17\u001b[0m \u001b[0;34m\u001b[0m\u001b[0m\n\u001b[1;32m     18\u001b[0m \u001b[0;32mif\u001b[0m \u001b[0mresponse\u001b[0m\u001b[0;34m.\u001b[0m\u001b[0mstatus_code\u001b[0m \u001b[0;34m==\u001b[0m \u001b[0;36m200\u001b[0m\u001b[0;34m:\u001b[0m\u001b[0;34m\u001b[0m\u001b[0;34m\u001b[0m\u001b[0m\n",
            "\u001b[0;32m/usr/local/lib/python3.10/dist-packages/requests/api.py\u001b[0m in \u001b[0;36mget\u001b[0;34m(url, params, **kwargs)\u001b[0m\n\u001b[1;32m     71\u001b[0m     \"\"\"\n\u001b[1;32m     72\u001b[0m \u001b[0;34m\u001b[0m\u001b[0m\n\u001b[0;32m---> 73\u001b[0;31m     \u001b[0;32mreturn\u001b[0m \u001b[0mrequest\u001b[0m\u001b[0;34m(\u001b[0m\u001b[0;34m\"get\"\u001b[0m\u001b[0;34m,\u001b[0m \u001b[0murl\u001b[0m\u001b[0;34m,\u001b[0m \u001b[0mparams\u001b[0m\u001b[0;34m=\u001b[0m\u001b[0mparams\u001b[0m\u001b[0;34m,\u001b[0m \u001b[0;34m**\u001b[0m\u001b[0mkwargs\u001b[0m\u001b[0;34m)\u001b[0m\u001b[0;34m\u001b[0m\u001b[0;34m\u001b[0m\u001b[0m\n\u001b[0m\u001b[1;32m     74\u001b[0m \u001b[0;34m\u001b[0m\u001b[0m\n\u001b[1;32m     75\u001b[0m \u001b[0;34m\u001b[0m\u001b[0m\n",
            "\u001b[0;32m/usr/local/lib/python3.10/dist-packages/requests/api.py\u001b[0m in \u001b[0;36mrequest\u001b[0;34m(method, url, **kwargs)\u001b[0m\n\u001b[1;32m     57\u001b[0m     \u001b[0;31m# cases, and look like a memory leak in others.\u001b[0m\u001b[0;34m\u001b[0m\u001b[0;34m\u001b[0m\u001b[0m\n\u001b[1;32m     58\u001b[0m     \u001b[0;32mwith\u001b[0m \u001b[0msessions\u001b[0m\u001b[0;34m.\u001b[0m\u001b[0mSession\u001b[0m\u001b[0;34m(\u001b[0m\u001b[0;34m)\u001b[0m \u001b[0;32mas\u001b[0m \u001b[0msession\u001b[0m\u001b[0;34m:\u001b[0m\u001b[0;34m\u001b[0m\u001b[0;34m\u001b[0m\u001b[0m\n\u001b[0;32m---> 59\u001b[0;31m         \u001b[0;32mreturn\u001b[0m \u001b[0msession\u001b[0m\u001b[0;34m.\u001b[0m\u001b[0mrequest\u001b[0m\u001b[0;34m(\u001b[0m\u001b[0mmethod\u001b[0m\u001b[0;34m=\u001b[0m\u001b[0mmethod\u001b[0m\u001b[0;34m,\u001b[0m \u001b[0murl\u001b[0m\u001b[0;34m=\u001b[0m\u001b[0murl\u001b[0m\u001b[0;34m,\u001b[0m \u001b[0;34m**\u001b[0m\u001b[0mkwargs\u001b[0m\u001b[0;34m)\u001b[0m\u001b[0;34m\u001b[0m\u001b[0;34m\u001b[0m\u001b[0m\n\u001b[0m\u001b[1;32m     60\u001b[0m \u001b[0;34m\u001b[0m\u001b[0m\n\u001b[1;32m     61\u001b[0m \u001b[0;34m\u001b[0m\u001b[0m\n",
            "\u001b[0;32m/usr/local/lib/python3.10/dist-packages/requests/sessions.py\u001b[0m in \u001b[0;36mrequest\u001b[0;34m(self, method, url, params, data, headers, cookies, files, auth, timeout, allow_redirects, proxies, hooks, stream, verify, cert, json)\u001b[0m\n\u001b[1;32m    587\u001b[0m         }\n\u001b[1;32m    588\u001b[0m         \u001b[0msend_kwargs\u001b[0m\u001b[0;34m.\u001b[0m\u001b[0mupdate\u001b[0m\u001b[0;34m(\u001b[0m\u001b[0msettings\u001b[0m\u001b[0;34m)\u001b[0m\u001b[0;34m\u001b[0m\u001b[0;34m\u001b[0m\u001b[0m\n\u001b[0;32m--> 589\u001b[0;31m         \u001b[0mresp\u001b[0m \u001b[0;34m=\u001b[0m \u001b[0mself\u001b[0m\u001b[0;34m.\u001b[0m\u001b[0msend\u001b[0m\u001b[0;34m(\u001b[0m\u001b[0mprep\u001b[0m\u001b[0;34m,\u001b[0m \u001b[0;34m**\u001b[0m\u001b[0msend_kwargs\u001b[0m\u001b[0;34m)\u001b[0m\u001b[0;34m\u001b[0m\u001b[0;34m\u001b[0m\u001b[0m\n\u001b[0m\u001b[1;32m    590\u001b[0m \u001b[0;34m\u001b[0m\u001b[0m\n\u001b[1;32m    591\u001b[0m         \u001b[0;32mreturn\u001b[0m \u001b[0mresp\u001b[0m\u001b[0;34m\u001b[0m\u001b[0;34m\u001b[0m\u001b[0m\n",
            "\u001b[0;32m/usr/local/lib/python3.10/dist-packages/requests/sessions.py\u001b[0m in \u001b[0;36msend\u001b[0;34m(self, request, **kwargs)\u001b[0m\n\u001b[1;32m    701\u001b[0m \u001b[0;34m\u001b[0m\u001b[0m\n\u001b[1;32m    702\u001b[0m         \u001b[0;31m# Send the request\u001b[0m\u001b[0;34m\u001b[0m\u001b[0;34m\u001b[0m\u001b[0m\n\u001b[0;32m--> 703\u001b[0;31m         \u001b[0mr\u001b[0m \u001b[0;34m=\u001b[0m \u001b[0madapter\u001b[0m\u001b[0;34m.\u001b[0m\u001b[0msend\u001b[0m\u001b[0;34m(\u001b[0m\u001b[0mrequest\u001b[0m\u001b[0;34m,\u001b[0m \u001b[0;34m**\u001b[0m\u001b[0mkwargs\u001b[0m\u001b[0;34m)\u001b[0m\u001b[0;34m\u001b[0m\u001b[0;34m\u001b[0m\u001b[0m\n\u001b[0m\u001b[1;32m    704\u001b[0m \u001b[0;34m\u001b[0m\u001b[0m\n\u001b[1;32m    705\u001b[0m         \u001b[0;31m# Total elapsed time of the request (approximately)\u001b[0m\u001b[0;34m\u001b[0m\u001b[0;34m\u001b[0m\u001b[0m\n",
            "\u001b[0;32m/usr/local/lib/python3.10/dist-packages/requests/adapters.py\u001b[0m in \u001b[0;36msend\u001b[0;34m(self, request, stream, timeout, verify, cert, proxies)\u001b[0m\n\u001b[1;32m    517\u001b[0m                 \u001b[0;32mraise\u001b[0m \u001b[0mSSLError\u001b[0m\u001b[0;34m(\u001b[0m\u001b[0me\u001b[0m\u001b[0;34m,\u001b[0m \u001b[0mrequest\u001b[0m\u001b[0;34m=\u001b[0m\u001b[0mrequest\u001b[0m\u001b[0;34m)\u001b[0m\u001b[0;34m\u001b[0m\u001b[0;34m\u001b[0m\u001b[0m\n\u001b[1;32m    518\u001b[0m \u001b[0;34m\u001b[0m\u001b[0m\n\u001b[0;32m--> 519\u001b[0;31m             \u001b[0;32mraise\u001b[0m \u001b[0mConnectionError\u001b[0m\u001b[0;34m(\u001b[0m\u001b[0me\u001b[0m\u001b[0;34m,\u001b[0m \u001b[0mrequest\u001b[0m\u001b[0;34m=\u001b[0m\u001b[0mrequest\u001b[0m\u001b[0;34m)\u001b[0m\u001b[0;34m\u001b[0m\u001b[0;34m\u001b[0m\u001b[0m\n\u001b[0m\u001b[1;32m    520\u001b[0m \u001b[0;34m\u001b[0m\u001b[0m\n\u001b[1;32m    521\u001b[0m         \u001b[0;32mexcept\u001b[0m \u001b[0mClosedPoolError\u001b[0m \u001b[0;32mas\u001b[0m \u001b[0me\u001b[0m\u001b[0;34m:\u001b[0m\u001b[0;34m\u001b[0m\u001b[0;34m\u001b[0m\u001b[0m\n",
            "\u001b[0;31mConnectionError\u001b[0m: HTTPSConnectionPool(host='api.quickbooks.com', port=443): Max retries exceeded with url: /v4/invoices (Caused by NameResolutionError(\"<urllib3.connection.HTTPSConnection object at 0x7df757f2ec50>: Failed to resolve 'api.quickbooks.com' ([Errno -2] Name or service not known)\"))"
          ]
        }
      ]
    },
    {
      "cell_type": "code",
      "source": [],
      "metadata": {
        "id": "oTDOXQUIW1ru"
      },
      "execution_count": null,
      "outputs": []
    }
  ]
}